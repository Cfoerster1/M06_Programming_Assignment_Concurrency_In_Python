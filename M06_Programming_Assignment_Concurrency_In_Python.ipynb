{
 "cells": [
  {
   "cell_type": "code",
   "execution_count": 5,
   "id": "bc86e553",
   "metadata": {},
   "outputs": [],
   "source": [
    "#13.1\n",
    "from datetime import date\n",
    "\n",
    "today = date.today().strftime('%Y-%m-%d')\n",
    "\n",
    "with open('today.txt', 'w') as f:\n",
    "    f.write(today)\n",
    "    \n",
    "#13.2\n",
    "with open('today.txt', 'r') as f:\n",
    "    today_string = f.read()\n",
    "\n",
    "#13.3\n",
    "from datetime import datetime\n",
    "\n",
    "date_format = '%Y-%m-%d'\n",
    "parsed_date = datetime.strptime(today_string, date_format).date()\n",
    "\n",
    "#15.1\n",
    "import multiprocessing\n",
    "import random\n",
    "import time\n",
    "from datetime import datetime\n",
    "\n",
    "def wait_and_print():\n",
    "    wait_time = random.random()\n",
    "    time.sleep(wait_time)\n",
    "    print(datetime.now())\n",
    "    \n",
    "if __name__ == '__main__':\n",
    "    processes = []\n",
    "    for i in range(3):\n",
    "        p = multiprocessing.Process(target=wait_and_print)\n",
    "        processes.append(p)\n",
    "        p.start()\n",
    "    \n",
    "    for p in processes:\n",
    "        p.join()"
   ]
  }
 ],
 "metadata": {
  "kernelspec": {
   "display_name": "Python 3 (ipykernel)",
   "language": "python",
   "name": "python3"
  },
  "language_info": {
   "codemirror_mode": {
    "name": "ipython",
    "version": 3
   },
   "file_extension": ".py",
   "mimetype": "text/x-python",
   "name": "python",
   "nbconvert_exporter": "python",
   "pygments_lexer": "ipython3",
   "version": "3.9.13"
  }
 },
 "nbformat": 4,
 "nbformat_minor": 5
}
